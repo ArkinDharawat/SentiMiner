{
 "cells": [
  {
   "cell_type": "code",
   "execution_count": 1,
   "metadata": {
    "collapsed": true
   },
   "outputs": [],
   "source": [
    "import pandas as pd\n",
    "import numpy as np"
   ]
  },
  {
   "cell_type": "code",
   "execution_count": 2,
   "metadata": {
    "collapsed": false
   },
   "outputs": [],
   "source": [
    "stock_name = \"FB\"\n",
    "training_data = pd.read_csv(stock_name + \"/\"+stock_name +\"_training_set.csv\",low_memory=False)"
   ]
  },
  {
   "cell_type": "code",
   "execution_count": 3,
   "metadata": {
    "collapsed": false
   },
   "outputs": [],
   "source": [
    "cols = training_data.columns"
   ]
  },
  {
   "cell_type": "code",
   "execution_count": 4,
   "metadata": {
    "collapsed": false
   },
   "outputs": [
    {
     "name": "stdout",
     "output_type": "stream",
     "text": [
      "Index([u'Unnamed: 0', u'Date', u'Mod Score', u'Average Score', u'Stock Price',\n",
      "       u'Change'],\n",
      "      dtype='object')\n"
     ]
    }
   ],
   "source": [
    "print cols"
   ]
  },
  {
   "cell_type": "code",
   "execution_count": 5,
   "metadata": {
    "collapsed": false
   },
   "outputs": [
    {
     "name": "stdout",
     "output_type": "stream",
     "text": [
      "    Mod Score  Average Score\n",
      "0         1.0            1.0\n",
      "1         1.0            2.0\n",
      "2         1.0            1.0\n",
      "3         1.0            1.0\n",
      "4         1.0            1.0\n",
      "5         1.0            2.0\n",
      "6         1.0            1.0\n",
      "7         1.0            2.0\n",
      "8         1.0            2.0\n",
      "9         1.0            1.0\n",
      "10        1.0            3.0\n",
      "11        1.0            2.0\n",
      "12        2.0            3.0\n",
      "13        1.0            3.0\n",
      "14        1.0            1.0\n",
      "15        1.0            1.0\n",
      "16        1.0            2.0\n",
      "17        2.0            3.0\n",
      "18        1.0            2.0\n",
      "19        2.0            3.0\n",
      "20        1.0            1.0\n",
      "21       -1.0            1.0\n",
      "22        1.0            1.0\n",
      "23        1.0            2.0\n",
      "24        1.0            1.0\n",
      "25        1.0            2.0\n",
      "26        1.0            1.0\n",
      "27        1.0            2.0\n",
      "28        1.0           -2.0\n",
      "29        1.0            2.0\n",
      "30        1.0           -2.0\n"
     ]
    }
   ],
   "source": [
    "x = training_data[cols[2:4]] #taking Date and Averagee sentiment\n",
    "print x"
   ]
  },
  {
   "cell_type": "code",
   "execution_count": 6,
   "metadata": {
    "collapsed": false
   },
   "outputs": [],
   "source": [
    "from sklearn import neighbors, datasets\n",
    "from sklearn.neighbors import KNeighborsClassifier\n",
    "from sklearn.linear_model import LogisticRegression\n",
    "from sklearn import metrics\n",
    "import matplotlib.pyplot as plt\n",
    "X = []\n",
    "temp = training_data['Average Score']\n",
    "for entry in training_data['Average Score']:\n",
    "    X.append([entry])\n",
    "X = np.array(X)\n",
    "y = np.array(training_data['Change'])"
   ]
  },
  {
   "cell_type": "code",
   "execution_count": 7,
   "metadata": {
    "collapsed": true
   },
   "outputs": [],
   "source": [
    "logreg = LogisticRegression()\n",
    "logreg.fit(X,y)\n",
    "log_predict = logreg.predict(X)"
   ]
  },
  {
   "cell_type": "code",
   "execution_count": 8,
   "metadata": {
    "collapsed": false
   },
   "outputs": [
    {
     "name": "stdout",
     "output_type": "stream",
     "text": [
      "0.516129032258\n"
     ]
    }
   ],
   "source": [
    "print metrics.accuracy_score(y,log_predict)"
   ]
  },
  {
   "cell_type": "code",
   "execution_count": 9,
   "metadata": {
    "collapsed": false
   },
   "outputs": [
    {
     "name": "stdout",
     "output_type": "stream",
     "text": [
      "['0.0' '1.0' '1.0' '0.0' '1.0' '0.0' '0.0' '0.0' '0.0' '0.0' '0.0' '0.0'\n",
      " '0.0' '0.0' '1.0' '1.0' '1.0' '1.0' '0.0' '1.0' '0.0' '1.0' '1.0' '1.0'\n",
      " '0.0' '0.0' '1.0' '1.0' '0.0' '1.0' '1.0']\n"
     ]
    }
   ],
   "source": [
    "y = np.asarray(training_data[cols[len(cols)-1]].dropna(),dtype=\"|S6\")#output\n",
    "print y"
   ]
  },
  {
   "cell_type": "code",
   "execution_count": null,
   "metadata": {
    "collapsed": false
   },
   "outputs": [],
   "source": []
  },
  {
   "cell_type": "code",
   "execution_count": 10,
   "metadata": {
    "collapsed": true
   },
   "outputs": [],
   "source": [
    "from sklearn import svm\n",
    "clf = svm.SVC(gamma=0.001, C=100)"
   ]
  },
  {
   "cell_type": "code",
   "execution_count": 11,
   "metadata": {
    "collapsed": true
   },
   "outputs": [],
   "source": [
    "#values,target = x[:-10],y[:-10]"
   ]
  },
  {
   "cell_type": "code",
   "execution_count": 12,
   "metadata": {
    "collapsed": false
   },
   "outputs": [
    {
     "data": {
      "text/plain": [
       "SVC(C=100, cache_size=200, class_weight=None, coef0=0.0,\n",
       "  decision_function_shape=None, degree=3, gamma=0.001, kernel='rbf',\n",
       "  max_iter=-1, probability=False, random_state=None, shrinking=True,\n",
       "  tol=0.001, verbose=False)"
      ]
     },
     "execution_count": 12,
     "metadata": {},
     "output_type": "execute_result"
    }
   ],
   "source": [
    "clf.fit(X,y)"
   ]
  },
  {
   "cell_type": "code",
   "execution_count": 13,
   "metadata": {
    "collapsed": false
   },
   "outputs": [
    {
     "name": "stdout",
     "output_type": "stream",
     "text": [
      "0.516129032258\n"
     ]
    }
   ],
   "source": [
    "#model = X.ix[len(X)-1]\n",
    "#print model\n",
    "svm_predict = clf.predict(X)\n",
    "print metrics.accuracy_score(y,svm_predict)"
   ]
  },
  {
   "cell_type": "markdown",
   "metadata": {},
   "source": [
    "\n",
    "    "
   ]
  },
  {
   "cell_type": "code",
   "execution_count": 14,
   "metadata": {
    "collapsed": false
   },
   "outputs": [
    {
     "name": "stderr",
     "output_type": "stream",
     "text": [
      "/home/shachi/.local/lib/python2.7/site-packages/sklearn/cross_validation.py:44: DeprecationWarning: This module was deprecated in version 0.18 in favor of the model_selection module into which all the refactored classes and functions are moved. Also note that the interface of the new CV iterators are different from that of this module. This module will be removed in 0.20.\n",
      "  \"This module will be removed in 0.20.\", DeprecationWarning)\n"
     ]
    },
    {
     "data": {
      "image/png": "[encoded data removed]",
      "text/plain": [
       "<matplotlib.figure.Figure at 0x7f8c1419edd0>"
      ]
     },
     "metadata": {},
     "output_type": "display_data"
    }
   ],
   "source": [
    "#using the train/test/split method to get accuracy values for k values 1 through 20\n",
    "from sklearn.cross_validation import train_test_split\n",
    "from sklearn.cross_validation import cross_val_score\n",
    "X_train, X_test, y_train, y_test = train_test_split(X,y,test_size = 0.33)\n",
    "vals = []\n",
    "ks = []\n",
    "for i in xrange(1,21):\n",
    "    knn = neighbors.KNeighborsClassifier(n_neighbors=i)\n",
    "    knn.fit(X_train,y_train)\n",
    "    knn_predict = knn.predict(X_test)\n",
    "    vals.append(metrics.accuracy_score(y_test,knn_predict))\n",
    "    ks.append(i)\n",
    "plt.plot(ks,vals)\n",
    "plt.show()"
   ]
  },
  {
   "cell_type": "code",
   "execution_count": 15,
   "metadata": {
    "collapsed": false
   },
   "outputs": [
    {
     "data": {
      "image/png": "[encoded data removed]",
      "text/plain": [
       "<matplotlib.figure.Figure at 0x7f8c1419e910>"
      ]
     },
     "metadata": {},
     "output_type": "display_data"
    }
   ],
   "source": [
    "#Using cross validation and k fold to get accuracy values from k values 1 through 20\n",
    "cross_val_accuracy = []\n",
    "for i in xrange(1,21):\n",
    "    knn = neighbors.KNeighborsClassifier(n_neighbors=i)\n",
    "    scores = cross_val_score(knn, X, y, cv=5, scoring = 'accuracy')\n",
    "    cross_val_accuracy.append(scores.mean())\n",
    "plt.plot(ks, cross_val_accuracy)\n",
    "plt.xlabel(\"K values\")\n",
    "plt.ylabel(\"Cross Validation Accuracy\")\n",
    "plt.show()"
   ]
  },
  {
   "cell_type": "code",
   "execution_count": 22,
   "metadata": {
    "collapsed": false
   },
   "outputs": [
    {
     "name": "stdout",
     "output_type": "stream",
     "text": [
      "Prediction: Decrease in stock value\n"
     ]
    }
   ],
   "source": [
    "#Ensemble learning using k folds. In our case, we have 5 folds so 5 training sets that are fit to the model.\n",
    "#We append each prediction to the prediction array and come to a conclusion based on the most common prediction\n",
    "from sklearn.model_selection import KFold\n",
    "kf = KFold(n_splits=5)\n",
    "test_sentiment = -3\n",
    "predictions = []\n",
    "for train_index, test_index in kf.split(X):\n",
    "    X_train = X[train_index]\n",
    "    y_train = y[train_index]\n",
    "    knn = neighbors.KNeighborsClassifier(n_neighbors=18)\n",
    "    knn.fit(X_train,y_train)\n",
    "    predictions.append(np.array(knn.predict(test_sentiment))[0])\n",
    "ones = 0\n",
    "zeros = 0\n",
    "for i in xrange(0,len(predictions)):\n",
    "    if predictions[i] == 0:\n",
    "        zeros+=1\n",
    "    if predictions[i] == 1:\n",
    "        ones+=1\n",
    "if ones>zeros:\n",
    "    print \"Prediction: Increase in stock value\"\n",
    "else:\n",
    "    print \"Prediction: Decrease in stock value\""
   ]
  },
  {
   "cell_type": "code",
   "execution_count": null,
   "metadata": {
    "collapsed": true
   },
   "outputs": [],
   "source": []
  }
 ],
 "metadata": {
  "kernelspec": {
   "display_name": "Python 2",
   "language": "python",
   "name": "python2"
  },
  "language_info": {
   "codemirror_mode": {
    "name": "ipython",
    "version": 2
   },
   "file_extension": ".py",
   "mimetype": "text/x-python",
   "name": "python",
   "nbconvert_exporter": "python",
   "pygments_lexer": "ipython2",
   "version": "2.7.12"
  }
 },
 "nbformat": 4,
 "nbformat_minor": 1
}
