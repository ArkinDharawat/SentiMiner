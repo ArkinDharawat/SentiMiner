{
 "cells": [
  {
   "cell_type": "code",
   "execution_count": 48,
   "metadata": {
    "collapsed": true
   },
   "outputs": [],
   "source": [
    "import pandas as pd\n",
    "import numpy as np"
   ]
  },
  {
   "cell_type": "code",
   "execution_count": 49,
   "metadata": {
    "collapsed": false
   },
   "outputs": [],
   "source": [
    "stock_name = \"FB\"\n",
    "training_data = pd.read_csv(stock_name + \"/\"+stock_name +\"_training_set.csv\",low_memory=False)"
   ]
  },
  {
   "cell_type": "code",
   "execution_count": 50,
   "metadata": {
    "collapsed": false
   },
   "outputs": [],
   "source": [
    "cols = training_data.columns"
   ]
  },
  {
   "cell_type": "code",
   "execution_count": 51,
   "metadata": {
    "collapsed": false
   },
   "outputs": [
    {
     "name": "stdout",
     "output_type": "stream",
     "text": [
      "Index([u'Unnamed: 0', u'Date', u'Mod Score', u'Average Score', u'Stock Price',\n",
      "       u'Change'],\n",
      "      dtype='object')\n"
     ]
    }
   ],
   "source": [
    "print cols"
   ]
  },
  {
   "cell_type": "code",
   "execution_count": 52,
   "metadata": {
    "collapsed": false
   },
   "outputs": [
    {
     "name": "stdout",
     "output_type": "stream",
     "text": [
      "    Mod Score  Average Score\n",
      "0         1.0            1.0\n",
      "1         1.0            2.0\n",
      "2         1.0            1.0\n",
      "3         1.0            1.0\n",
      "4         1.0            1.0\n",
      "5         1.0            2.0\n",
      "6         1.0            1.0\n",
      "7         1.0            2.0\n",
      "8         1.0            2.0\n",
      "9         1.0            1.0\n",
      "10        1.0            3.0\n",
      "11        1.0            2.0\n",
      "12        2.0            3.0\n",
      "13        1.0            3.0\n",
      "14        1.0            1.0\n",
      "15        1.0            1.0\n",
      "16        1.0            2.0\n",
      "17        2.0            3.0\n",
      "18        1.0            2.0\n",
      "19        2.0            3.0\n",
      "20        1.0            1.0\n",
      "21       -1.0            1.0\n",
      "22        1.0            1.0\n",
      "23        1.0            2.0\n",
      "24        1.0            1.0\n",
      "25        1.0            2.0\n",
      "26        1.0            1.0\n",
      "27        1.0            2.0\n",
      "28        1.0           -2.0\n",
      "29        1.0            2.0\n",
      "30        1.0           -2.0\n"
     ]
    }
   ],
   "source": [
    "x = training_data[cols[2:4]] #taking Date and Averagee sentiment\n",
    "print x"
   ]
  },
  {
   "cell_type": "code",
   "execution_count": 66,
   "metadata": {
    "collapsed": false
   },
   "outputs": [
    {
     "name": "stdout",
     "output_type": "stream",
     "text": [
      "[[1.0], [2.0], [1.0], [1.0], [1.0], [2.0], [1.0], [2.0], [2.0], [1.0], [3.0], [2.0], [3.0], [3.0], [1.0], [1.0], [2.0], [3.0], [2.0], [3.0], [1.0], [1.0], [1.0], [2.0], [1.0], [2.0], [1.0], [2.0], [-2.0], [2.0], [-2.0]]\n"
     ]
    },
    {
     "data": {
      "image/png": "[encoded data removed]",
      "text/plain": [
       "<matplotlib.figure.Figure at 0x7f1492a87e90>"
      ]
     },
     "metadata": {},
     "output_type": "display_data"
    }
   ],
   "source": [
    "from sklearn import neighbors, datasets\n",
    "from sklearn.neighbors import KNeighborsClassifier\n",
    "from sklearn.linear_model import LogisticRegression\n",
    "from sklearn import metrics\n",
    "import matplotlib.pyplot as plt\n",
    "results = [\"Decrease\",\"Increase\"]\n",
    "X = []\n",
    "temp = training_data['Average Score']\n",
    "for entry in training_data['Average Score']:\n",
    "    X.append([entry])\n",
    "y = np.array(training_data['Change'])\n",
    "print(X)\n",
    "scores = []\n",
    "ks = []\n",
    "for i in xrange(1,21):\n",
    "    knn = neighbors.KNeighborsClassifier(n_neighbors=i)\n",
    "    knn.fit(X,y)\n",
    "    knn_predict = knn.predict(X)\n",
    "    scores.append(metrics.accuracy_score(y,knn_predict))\n",
    "    ks.append(i)\n",
    "plt.plot(ks,scores)\n",
    "plt.show()"
   ]
  },
  {
   "cell_type": "code",
   "execution_count": 67,
   "metadata": {
    "collapsed": true
   },
   "outputs": [],
   "source": [
    "logreg = LogisticRegression()\n",
    "logreg.fit(X,y)\n",
    "log_predict = logreg.predict(X)"
   ]
  },
  {
   "cell_type": "code",
   "execution_count": 68,
   "metadata": {
    "collapsed": false
   },
   "outputs": [
    {
     "name": "stdout",
     "output_type": "stream",
     "text": [
      "0.516129032258\n"
     ]
    }
   ],
   "source": [
    "print metrics.accuracy_score(y,log_predict)"
   ]
  },
  {
   "cell_type": "code",
   "execution_count": 56,
   "metadata": {
    "collapsed": false
   },
   "outputs": [
    {
     "name": "stdout",
     "output_type": "stream",
     "text": [
      "['0.0' '1.0' '1.0' '0.0' '1.0' '0.0' '0.0' '0.0' '0.0' '0.0' '0.0' '0.0'\n",
      " '0.0' '0.0' '1.0' '1.0' '1.0' '1.0' '0.0' '1.0' '0.0' '1.0' '1.0' '1.0'\n",
      " '0.0' '0.0' '1.0' '1.0' '0.0' '1.0' '1.0']\n"
     ]
    }
   ],
   "source": [
    "y = np.asarray(training_data[cols[len(cols)-1]].dropna(),dtype=\"|S6\")#output\n",
    "print y"
   ]
  },
  {
   "cell_type": "code",
   "execution_count": null,
   "metadata": {
    "collapsed": false
   },
   "outputs": [],
   "source": []
  },
  {
   "cell_type": "code",
   "execution_count": 57,
   "metadata": {
    "collapsed": true
   },
   "outputs": [],
   "source": [
    "from sklearn import svm\n",
    "clf = svm.SVC(gamma=0.001, C=100)"
   ]
  },
  {
   "cell_type": "code",
   "execution_count": 58,
   "metadata": {
    "collapsed": true
   },
   "outputs": [],
   "source": [
    "#values,target = x[:-10],y[:-10]"
   ]
  },
  {
   "cell_type": "code",
   "execution_count": 59,
   "metadata": {
    "collapsed": false
   },
   "outputs": [
    {
     "data": {
      "text/plain": [
       "SVC(C=100, cache_size=200, class_weight=None, coef0=0.0,\n",
       "  decision_function_shape=None, degree=3, gamma=0.001, kernel='rbf',\n",
       "  max_iter=-1, probability=False, random_state=None, shrinking=True,\n",
       "  tol=0.001, verbose=False)"
      ]
     },
     "execution_count": 59,
     "metadata": {},
     "output_type": "execute_result"
    }
   ],
   "source": [
    "clf.fit(X,y)"
   ]
  },
  {
   "cell_type": "code",
   "execution_count": 60,
   "metadata": {
    "collapsed": false
   },
   "outputs": [
    {
     "name": "stdout",
     "output_type": "stream",
     "text": [
      "0.516129032258\n"
     ]
    }
   ],
   "source": [
    "#model = X.ix[len(X)-1]\n",
    "#print model\n",
    "svm_predict = clf.predict(X)\n",
    "print metrics.accuracy_score(y,svm_predict)"
   ]
  },
  {
   "cell_type": "markdown",
   "metadata": {},
   "source": [
    "### "
   ]
  },
  {
   "cell_type": "code",
   "execution_count": null,
   "metadata": {
    "collapsed": true
   },
   "outputs": [],
   "source": []
  }
 ],
 "metadata": {
  "kernelspec": {
   "display_name": "Python 2",
   "language": "python",
   "name": "python2"
  },
  "language_info": {
   "codemirror_mode": {
    "name": "ipython",
    "version": 2
   },
   "file_extension": ".py",
   "mimetype": "text/x-python",
   "name": "python",
   "nbconvert_exporter": "python",
   "pygments_lexer": "ipython2",
   "version": "2.7.12"
  }
 },
 "nbformat": 4,
 "nbformat_minor": 1
}
