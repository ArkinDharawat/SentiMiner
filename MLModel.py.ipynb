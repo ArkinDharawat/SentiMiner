{
 "cells": [
  {
   "cell_type": "code",
   "execution_count": 34,
   "metadata": {
    "collapsed": true
   },
   "outputs": [],
   "source": [
    "import pandas as pd\n",
    "import numpy as np"
   ]
  },
  {
   "cell_type": "code",
   "execution_count": 4,
   "metadata": {
    "collapsed": false
   },
   "outputs": [],
   "source": [
    "stock_name = \"FB\"\n",
    "training_data = pd.read_csv(stock_name + \"/\"+stock_name +\"_training_set.csv\",low_memory=False)"
   ]
  },
  {
   "cell_type": "code",
   "execution_count": 5,
   "metadata": {
    "collapsed": false
   },
   "outputs": [],
   "source": [
    "cols = training_data.columns"
   ]
  },
  {
   "cell_type": "code",
   "execution_count": 6,
   "metadata": {
    "collapsed": false
   },
   "outputs": [
    {
     "name": "stdout",
     "output_type": "stream",
     "text": [
      "Index([u'Unnamed: 0', u'Date', u'Mod Score', u'Average Score', u'Stock Price'], dtype='object')\n"
     ]
    }
   ],
   "source": [
    "print cols"
   ]
  },
  {
   "cell_type": "code",
   "execution_count": 43,
   "metadata": {
    "collapsed": false
   },
   "outputs": [
    {
     "name": "stdout",
     "output_type": "stream",
     "text": [
      "    Mod Score  Average Score\n",
      "0         1.0            1.0\n",
      "1         1.0            2.0\n",
      "2         1.0            1.0\n",
      "3         1.0            1.0\n",
      "4         1.0            1.0\n",
      "5         1.0            2.0\n",
      "6         1.0            1.0\n",
      "7         1.0            2.0\n",
      "8         1.0            2.0\n",
      "9         1.0            1.0\n",
      "10        1.0            3.0\n",
      "11        1.0            2.0\n",
      "12        2.0            3.0\n",
      "13        1.0            3.0\n",
      "14        1.0            1.0\n",
      "15        1.0            1.0\n",
      "16        1.0            2.0\n",
      "17        2.0            3.0\n",
      "18        1.0            2.0\n",
      "19        2.0            3.0\n",
      "20        1.0            1.0\n",
      "21       -1.0            1.0\n",
      "22        1.0            1.0\n",
      "23        1.0            2.0\n",
      "24        1.0            1.0\n",
      "25        1.0            2.0\n",
      "26        1.0            1.0\n",
      "27        1.0            2.0\n",
      "28        1.0           -2.0\n",
      "29        1.0            2.0\n",
      "30        1.0           -2.0\n"
     ]
    }
   ],
   "source": [
    "\n",
    "x = training_data[cols[2:4]] #taking Date and Averagee sentiment\n",
    "print x"
   ]
  },
  {
   "cell_type": "code",
   "execution_count": 52,
   "metadata": {
    "collapsed": false
   },
   "outputs": [
    {
     "name": "stdout",
     "output_type": "stream",
     "text": [
      "['0.57' '1.27' '0.89' '0.89' '0.39' '0.3' '1.73' '1.15' '0.24' '0.71'\n",
      " '1.71' '1.47' '0.18' '1.72' '1.23' '0.95' '0.22' '1.46' '0.01' '0.71'\n",
      " '0.65' '0.87' '0.23' '1.19' '2.85' '0.24' '0.85' '0.88' '1.45' '0.3'\n",
      " '0.76']\n"
     ]
    }
   ],
   "source": [
    "y = np.asarray(training_data[cols[len(cols)-1]],dtype=\"|S6\")#output\n",
    "print y"
   ]
  },
  {
   "cell_type": "code",
   "execution_count": 54,
   "metadata": {
    "collapsed": true
   },
   "outputs": [],
   "source": [
    "from sklearn import svm\n",
    "clf = svm.SVC(gamma=0.001, C=100)\n"
   ]
  },
  {
   "cell_type": "code",
   "execution_count": 57,
   "metadata": {
    "collapsed": true
   },
   "outputs": [],
   "source": [
    "values,target = x[:-10],y[:-10]"
   ]
  },
  {
   "cell_type": "code",
   "execution_count": 58,
   "metadata": {
    "collapsed": false
   },
   "outputs": [
    {
     "data": {
      "text/plain": [
       "SVC(C=100, cache_size=200, class_weight=None, coef0=0.0,\n",
       "  decision_function_shape=None, degree=3, gamma=0.001, kernel='rbf',\n",
       "  max_iter=-1, probability=False, random_state=None, shrinking=True,\n",
       "  tol=0.001, verbose=False)"
      ]
     },
     "execution_count": 58,
     "metadata": {},
     "output_type": "execute_result"
    }
   ],
   "source": [
    "clf.fit(x,y)"
   ]
  },
  {
   "cell_type": "code",
   "execution_count": 61,
   "metadata": {
    "collapsed": false
   },
   "outputs": [
    {
     "name": "stdout",
     "output_type": "stream",
     "text": [
      "Mod Score        1.0\n",
      "Average Score   -2.0\n",
      "Name: 30, dtype: float64\n",
      "['1.45']\n"
     ]
    },
    {
     "name": "stderr",
     "output_type": "stream",
     "text": [
      "/Library/Frameworks/Python.framework/Versions/2.7/lib/python2.7/site-packages/sklearn/utils/validation.py:395: DeprecationWarning: Passing 1d arrays as data is deprecated in 0.17 and will raise ValueError in 0.19. Reshape your data either using X.reshape(-1, 1) if your data has a single feature or X.reshape(1, -1) if it contains a single sample.\n",
      "  DeprecationWarning)\n"
     ]
    }
   ],
   "source": [
    "model = x.ix[len(x)-1]\n",
    "print model\n",
    "print clf.predict(model)"
   ]
  },
  {
   "cell_type": "markdown",
   "metadata": {},
   "source": [
    "### "
   ]
  }
 ],
 "metadata": {
  "kernelspec": {
   "display_name": "Python 2",
   "language": "python",
   "name": "python2"
  },
  "language_info": {
   "codemirror_mode": {
    "name": "ipython",
    "version": 2
   },
   "file_extension": ".py",
   "mimetype": "text/x-python",
   "name": "python",
   "nbconvert_exporter": "python",
   "pygments_lexer": "ipython2",
   "version": "2.7.9"
  }
 },
 "nbformat": 4,
 "nbformat_minor": 1
}
